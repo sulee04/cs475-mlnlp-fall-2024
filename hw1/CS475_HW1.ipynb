{
    "cells": [
     {
      "cell_type": "markdown",
      "metadata": {},
      "source": [
       "# CS475 Natural Language Model - Programming Assignment 1"
      ]
     },
     {
      "cell_type": "markdown",
      "metadata": {},
      "source": [
       "## Submission Guide"
      ]
     },
     {
      "cell_type": "markdown",
      "metadata": {},
      "source": [
       "This homework is built on top of Micrograd by Andrej Karpathy. He has an excellent [tutorial](https://youtu.be/VMj-3S1tku0?si=EpsUsPGzZs5mIBMi) going over the codebase and building it from scratch. You should have no difficulty solving this homework if you understand that tutorial.\n",
       "\n",
       "**How to submit**\n",
       "* Fill out <mark>TODO</mark> blocks, **DO NOT** modify other parts of the skeleton code.\n",
       "* Submit one file: hw1_{student_ID}.ipynb to KLMS\n",
       "    e.g.hw1_20243150.ipynb\n",
       "* **Late submission policy**: After the submission deadline, you will\n",
       "immediately lose 20% of the score, another 20% after 24 hours later, and so on.\n",
       "Submission after 72 hours (3 days) will not be counted. However, you can use late days for this assignment, for which you have to send an email to inform the TAs. See course syllabus website Late Policy section.\n",
       "\n",
       "**Note**\n",
       "* Make a copy of this .ipynb file. Do not directly edit this file.\n",
       "* You are required to use numpy, do not use neither pytorch nor tensorflow.\n",
       "* Check whether your whole cells work well by restarting runtime code and running all before the submission.\n",
       "* TA will look into the implemented functions, their validity and give corresponding score to each <mark>TODO</mark> problem.\n",
       "* Ask questions through Slack so that you can share information with other students.\n",
       "* TA in charge: Yeahoon Kim (yeahoon.kim@kaist.ac.kr)\n"
      ]
     },
     {
      "cell_type": "markdown",
      "metadata": {},
      "source": [
       "**In this programming assignment, you will**\n",
       "* Learn how the backporpagation works.\n",
       "* Learn how the pytorch module works."
      ]
     },
     {
      "cell_type": "code",
      "execution_count": 126,
      "metadata": {},
      "outputs": [
       {
        "data": {
         "text/plain": [
          "<torch._C.Generator at 0x7f6fe8702390>"
         ]
        },
        "execution_count": 126,
        "metadata": {},
        "output_type": "execute_result"
       }
      ],
      "source": [
       "# Import cell\n",
       "import math\n",
       "import torch\n",
       "import random\n",
       "import numpy as np\n",
       "from tqdm import tqdm\n",
       "import matplotlib.pyplot as plt\n",
       "import torch.nn.functional as F\n",
       "from graphviz import Digraph\n",
       "%matplotlib inline\n",
       "\n",
       "# set seed\n",
       "seed_value = 42\n",
       "random.seed(seed_value)\n",
       "np.random.seed(seed_value)\n",
       "torch.manual_seed(seed_value)"
      ]
     },
     {
      "cell_type": "markdown",
      "metadata": {},
      "source": [
       "## 1. Derivation of a simple function with one input"
      ]
     },
     {
      "cell_type": "markdown",
      "metadata": {},
      "source": [
       "### 1.1. What is derivation?\n",
       "\n",
       "Derivation is a mathematical process used to find the rate of change of a function with respect to its input variables. It is an essential tool in calculus and is widely used in various fields of science and engineering.\n",
       "\n",
       "In programming, we can approximate the derivative of a function by using numerical methods. One common method is called the **\"finite difference approximation.\"**\n",
       "\n",
       "The finite difference approximation calculates the derivative by estimating the slope of the function at a given point. It does this by taking the difference between the function values at two nearby points and dividing it by the difference in their corresponding input values. This can be expressed as an equation as follows:\n",
       "\n",
       "$\\frac{f(x+h)-f(x)}{h}$\n",
       "\n",
       "You can check the detail in [here](https://en.wikipedia.org/wiki/Finite_difference)"
      ]
     },
     {
      "cell_type": "markdown",
      "metadata": {},
      "source": [
       "### 1.2. Simple example of the derivation\n",
       "The following is the basic example of the derivation"
      ]
     },
     {
      "cell_type": "code",
      "execution_count": 127,
      "metadata": {},
      "outputs": [],
      "source": [
       "################## TODO: Implement the gradient function ##################\n",
       "# The gradient function should take a function f and a point x and return the gradient of f at x.\n",
       "# The gradient should be approximated using finite differences with a small step size h.\n",
       "# The function f is assumed to be scalar-valued.\n",
       "def gradient(f, x: float, h=1e-5) -> float:\n",
       "    return (f(x + h) - f(x)) / h\n",
       "###########################################################################"
      ]
     },
     {
      "cell_type": "code",
      "execution_count": 128,
      "metadata": {},
      "outputs": [
       {
        "name": "stdout",
        "output_type": "stream",
        "text": [
         "Gradient of function f at the point 2: 8.000\n"
        ]
       }
      ],
      "source": [
       "# Define function f(x)\n",
       "def f(x: float) -> float:\n",
       "    return 3 * x**2 - 4 * x + 5\n",
       "\n",
       "# Find the gradient of f(x) at x = 2\n",
       "x = 2\n",
       "df = gradient(f, x)\n",
       "\n",
       "print(f\"Gradient of function f at the point {x}: {df:.3f}\")"
      ]
     },
     {
      "cell_type": "code",
      "execution_count": 129,
      "metadata": {},
      "outputs": [
       {
        "data": {
         "text/plain": [
          "[<matplotlib.lines.Line2D at 0x7f6dd47891d0>]"
         ]
        },
        "execution_count": 129,
        "metadata": {},
        "output_type": "execute_result"
       },
       {
        "data": {
         "image/png": "[encoded data removed]",
         "text/plain": [
          "<Figure size 640x480 with 1 Axes>"
         ]
        },
        "metadata": {},
        "output_type": "display_data"
       }
      ],
      "source": [
       "xs = np.arange(-5, 5, 0.25)\n",
       "ys = f(xs)\n",
       "plt.plot(xs, ys)"
      ]
     },
     {
      "cell_type": "markdown",
      "metadata": {},
      "source": [
       "## 2. Implement backpropagation"
      ]
     },
     {
      "cell_type": "markdown",
      "metadata": {},
      "source": [
       "### 2.1. Implement value object for the gradient flow\n",
       "The `Value` object is a class that represents a scalar value and its gradient. It is used in the context of gradient descent and backpropagation algorithms. The `Value` object has the following attributes and methods:\n",
       "\n",
       "**Attributes:**\n",
       "- `data`: The scalar value stored in the object.\n",
       "- `grad`: The gradient of the scalar value with respect to some variable.\n",
       "- `_backward`: A function that defines the backward pass of the backpropagation algorithm.\n",
       "- `_prev`: A set of `Value` objects that are the inputs to the operation that produced this object.\n",
       "- `_op`: A string that represents the operation that produced this object.\n",
       "\n",
       "**Methods:**\n",
       "- `__add__(self, other)`: Overloads the `+` operator to perform addition between two `Value` objects or a `Value` object and a scalar.\n",
       "- `__mul__(self, other)`: Overloads the `*` operator to perform multiplication between two `Value` objects or a `Value` object and a scalar.\n",
       "- `__pow__(self, other)`: Overloads the `**` operator to perform exponentiation between a `Value` object and an integer or float.\n",
       "- `relu(self)`: Applies the rectified linear unit (ReLU) activation function to the `Value` object.\n",
       "- `backward(self)`: Performs the backward pass of the backpropagation algorithm to compute the gradients of the `Value` object and its inputs.\n",
       "\n",
       "The `Value` object is used in the implementation of neural networks and other machine learning algorithms to compute gradients and update the model parameters during training. It allows for automatic differentiation and efficient computation of gradients using the chain rule."
      ]
     },
     {
      "cell_type": "markdown",
      "metadata": {},
      "source": [
       "<mark>TODO</mark> Implement the activation functions."
      ]
     },
     {
      "cell_type": "code",
      "execution_count": 130,
      "metadata": {},
      "outputs": [],
      "source": [
       "class Value:\n",
       "    \"\"\" stores a single scalar value and its gradient \"\"\"\n",
       "\n",
       "    def __init__(self, data, _children=(), _op='', label=''):\n",
       "        self.data = data\n",
       "        self.grad = 0\n",
       "        # internal variables used for autograd graph construction\n",
       "        self._backward = lambda: None\n",
       "        self._prev = set(_children)\n",
       "        self._op = _op # the op that produced this node, for graphviz / debugging / etc\n",
       "        self.label = label\n",
       "\n",
       "    def __add__(self, other):\n",
       "        other = other if isinstance(other, Value) else Value(other)\n",
       "        out = Value(self.data + other.data, (self, other), '+')\n",
       "\n",
       "        def _backward():\n",
       "            self.grad += out.grad\n",
       "            other.grad += out.grad\n",
       "        out._backward = _backward\n",
       "\n",
       "        return out\n",
       "\n",
       "    def __mul__(self, other):\n",
       "        other = other if isinstance(other, Value) else Value(other)\n",
       "        out = Value(self.data * other.data, (self, other), '*')\n",
       "\n",
       "        def _backward():\n",
       "            self.grad += other.data * out.grad\n",
       "            other.grad += self.data * out.grad\n",
       "        out._backward = _backward\n",
       "\n",
       "        return out\n",
       "\n",
       "    def __pow__(self, other):\n",
       "        assert isinstance(other, (int, float)), \"only supporting int/float powers for now\"\n",
       "        out = Value(self.data**other, (self,), f'**{other}')\n",
       "\n",
       "        def _backward():\n",
       "            self.grad += (other * self.data**(other-1)) * out.grad\n",
       "        out._backward = _backward\n",
       "\n",
       "        return out\n",
       "\n",
       "    def log(self):\n",
       "        out = Value(math.log(self.data), (self,), 'log')\n",
       "\n",
       "        def _backward():\n",
       "            self.grad += (1/self.data) * out.grad\n",
       "        out._backward = _backward\n",
       "\n",
       "        return out\n",
       "    \n",
       "    def relu(self):\n",
       "        out = Value(0 if self.data < 0 else self.data, (self,), 'ReLU')\n",
       "\n",
       "        def _backward():\n",
       "            self.grad += (out.data > 0) * out.grad\n",
       "        out._backward = _backward\n",
       "\n",
       "        return out\n",
       "\n",
       "    ############# TODO: implement more activation functions ############\n",
       "    # You can implement more activations such as sigmoid, tanh, silu, gelu, elu etc.\n",
       "    # Make sure to implement their gradients as well.\n",
       "    # If there is an activation function you want to implement, implement it here.\n",
       "    \n",
       "    def sigmoid(self):\n",
       "        # You can refer to the following link to implement the sigmoid function\n",
       "        # https://en.wikipedia.org/wiki/Sigmoid_function\n",
       "        out = Value(1 / (1 + math.exp(-self.data)), (self,), 'Sigmoid')\n",
       "\n",
       "        def _backward():\n",
       "            exp_of_data = math.exp(-self.data)\n",
       "            self.grad += exp_of_data / ((1 + exp_of_data) ** 2) * out.grad\n",
       "        out._backward = _backward\n",
       "\n",
       "        return out\n",
       "    \n",
       "    def tanh(self):\n",
       "        # You can refer to the following link to implement the tanh function\n",
       "        # https://en.wikipedia.org/wiki/Hyperbolic_function\n",
       "        out = Value(math.tanh(self.data), (self,), \"Tangent Hyperbolic\")\n",
       "\n",
       "        def _backward():\n",
       "            return (1 - math.tanh(self.data) ** 2) * out.grad\n",
       "        out._backward = _backward\n",
       "\n",
       "        return out\n",
       "\n",
       "    \n",
       "    def silu(self):\n",
       "        # You can refer to the following link to implement the SiLU function\n",
       "        # https://arxiv.org/abs/1702.03118\n",
       "        out = Value(self.data / (1 + math.exp(-self.data)), (self,), 'SiLU')\n",
       "\n",
       "        def _backward():\n",
       "            v = 1 + math.exp(-self.data)\n",
       "            self.grad += (1 / v + self.data * (v - 1) / v ** 2) * out.grad\n",
       "        out._backward = _backward\n",
       "\n",
       "        return out\n",
       "    \n",
       "    def gelu(self):\n",
       "        # You can refer to the following link to implement the GELU function\n",
       "        # https://arxiv.org/abs/1606.08415\n",
       "        out = Value(self.data * (\n",
       "            1 \n",
       "            + math.erf(self.data / (2 ** 0.5))\n",
       "        ) / 2, (self, ), \"GELU\")\n",
       "        \n",
       "        def _backward():\n",
       "            self.grad += math.exp((self.data ** 2) / -2) / (math.pi ** 0.5) * out.grad\n",
       "        out._backward = _backward\n",
       "\n",
       "        return out\n",
       "\n",
       "    def elu(self, alpha=1.0):\n",
       "        # You can refer to the following link to implement the ELU function\n",
       "        # https://arxiv.org/abs/1511.07289\n",
       "        x = self.data\n",
       "        out = Value(x if x > 0 else alpha * (math.exp(x) - 1), (self,), \"ELU\")\n",
       "\n",
       "        def _backward():\n",
       "            self.grad += (1 if x > 0 else alpha * math.exp(x)) * out.grad\n",
       "        out._backward = _backward\n",
       "        \n",
       "        return out\n",
       "    \n",
       "    ######################################################################\n",
       "    \n",
       "    def backward(self):\n",
       "\n",
       "        # topological order all of the children in the graph\n",
       "        topo = []\n",
       "        visited = set()\n",
       "        def build_topo(v):\n",
       "            if v not in visited:\n",
       "                visited.add(v)\n",
       "                for child in v._prev:\n",
       "                    build_topo(child)\n",
       "                topo.append(v)\n",
       "        build_topo(self)\n",
       "\n",
       "        # go one variable at a time and apply the chain rule to get its gradient\n",
       "        self.grad = 1\n",
       "        for v in reversed(topo):\n",
       "            v._backward()\n",
       "\n",
       "    def __neg__(self): # -self\n",
       "        return self * -1\n",
       "\n",
       "    def __radd__(self, other): # other + self\n",
       "        return self + other\n",
       "\n",
       "    def __sub__(self, other): # self - other\n",
       "        return self + (-other)\n",
       "\n",
       "    def __rsub__(self, other): # other - self\n",
       "        return other + (-self)\n",
       "\n",
       "    def __rmul__(self, other): # other * self\n",
       "        return self * other\n",
       "\n",
       "    def __truediv__(self, other): # self / other\n",
       "        return self * other**-1\n",
       "\n",
       "    def __rtruediv__(self, other): # other / self\n",
       "        return other * self**-1\n",
       "\n",
       "    def __repr__(self):\n",
       "        return f\"Value(data={self.data}, grad={self.grad})\""
      ]
     },
     {
      "cell_type": "markdown",
      "metadata": {},
      "source": [
       "Sanity Check for the `sigmoid` and `tanh`"
      ]
     },
     {
      "cell_type": "code",
      "execution_count": 131,
      "metadata": {},
      "outputs": [],
      "source": [
       "# Function for checking the correctness of the implementation\n",
       "# You can also try the other activation functions you implemented; \n",
       "# note that sometimes framework's implementations differ slightly for numererical stability reasons. \n",
       "# You will be graded correct as long as your answer is reasonable.\n",
       "\n",
       "def test_sanity_check():\n",
       "    x = Value(-4.0)\n",
       "    z = 2 * x + 2 + x\n",
       "    q = z.relu() + z * x\n",
       "    h = (z * z).sigmoid()\n",
       "    y = h + q + q * x\n",
       "    y.backward()\n",
       "    xmg, ymg = x, y\n",
       "\n",
       "    x = torch.Tensor([-4.0]).double()\n",
       "    x.requires_grad = True\n",
       "    z = 2 * x + 2 + x\n",
       "    q = F.relu(z) + z * x\n",
       "    h = F.sigmoid(z * z)\n",
       "    y = h + q + q * x\n",
       "    y.backward()\n",
       "    xpt, ypt = x, y\n",
       "\n",
       "    # forward pass went well\n",
       "    assert ymg.data == ypt.data.item()\n",
       "    # backward pass went well\n",
       "    assert xmg.grad == xpt.grad.item()\n",
       "    \n",
       "test_sanity_check()"
      ]
     },
     {
      "cell_type": "markdown",
      "metadata": {},
      "source": [
       "# 3. Implement Neural Networks"
      ]
     },
     {
      "cell_type": "markdown",
      "metadata": {},
      "source": [
       "Now, let's define a Multi-Layer Perceptron (MLP) using the previously defined `Value` object as the basic building block. The MLP will consist of multiple layers, where each layer performs a linear transformation followed by a non-linear activation function.\n",
       "\n",
       "### 3.1. Explanation of the MLP:\n",
       "- **Input Layer**: The input layer takes the raw input data and feeds it into the network.\n",
       "- **Hidden Layers**: Each hidden layer applies a linear transformation (i.e., a weighted sum of inputs) followed by a non-linear activation function (such as ReLU). These layers capture complex patterns in the data by progressively learning higher-level features.\n",
       "- **Output Layer**: The final layer outputs the predictions.\n",
       "\n",
       "In this setup, the `Value` objects will be used to perform all the necessary computations while tracking the gradients for backpropagation. This allows the MLP to learn by adjusting its weights based on the gradients computed during the backward pass."
      ]
     },
     {
      "cell_type": "code",
      "execution_count": 132,
      "metadata": {},
      "outputs": [],
      "source": [
       "class Module:\n",
       "\n",
       "    def zero_grad(self):\n",
       "        for p in self.parameters():\n",
       "            p.grad = 0\n",
       "\n",
       "    def parameters(self):\n",
       "        return []"
      ]
     },
     {
      "cell_type": "code",
      "execution_count": 133,
      "metadata": {},
      "outputs": [],
      "source": [
       "class Neuron(Module):\n",
       "\n",
       "    def __init__(self, feature_in, acti: str = 'relu'):\n",
       "        self.w = [Value(random.uniform(-1,1)) for _ in range(feature_in)]\n",
       "        self.b = Value(0)\n",
       "        self.acti = acti\n",
       "\n",
       "    def __call__(self, x):\n",
       "        act = sum((wi*xi for wi,xi in zip(self.w, x)), self.b)\n",
       "        if self.acti is None:\n",
       "            return act\n",
       "        elif hasattr(act, self.acti):\n",
       "            return getattr(act, self.acti)()\n",
       "        else:\n",
       "            print(\"Error: Activation function not defined\")\n",
       "            return None\n",
       "\n",
       "    def parameters(self):\n",
       "        return self.w + [self.b]\n",
       "\n",
       "    def __repr__(self):\n",
       "        return f\"{self.acti} Neuron({len(self.w)})\""
      ]
     },
     {
      "cell_type": "code",
      "execution_count": 134,
      "metadata": {},
      "outputs": [],
      "source": [
       "class Layer(Module):\n",
       "\n",
       "    def __init__(self, nin, nout, acti, **kwargs):\n",
       "        self.neurons = [Neuron(nin, acti, **kwargs) for _ in range(nout)]\n",
       "\n",
       "    def __call__(self, x):\n",
       "        out = [n(x) for n in self.neurons]\n",
       "        return out[0] if len(out) == 1 else out\n",
       "\n",
       "    def parameters(self):\n",
       "        return [p for n in self.neurons for p in n.parameters()]\n",
       "\n",
       "    def __repr__(self):\n",
       "        return f\"Layer of [{', '.join(str(n) for n in self.neurons)}]\""
      ]
     },
     {
      "cell_type": "code",
      "execution_count": 135,
      "metadata": {},
      "outputs": [],
      "source": [
       "class MLP(Module):\n",
       "\n",
       "    def __init__(self, nin, nouts, acti='relu'):\n",
       "        sz = [nin] + nouts\n",
       "        act = [acti] * (len(nouts)-1) + [None]\n",
       "        self.layers = [Layer(sz[i], sz[i + 1], acti=act[i]) for i in range(len(nouts))]\n",
       "\n",
       "    def __call__(self, x):\n",
       "        for layer in self.layers:\n",
       "            x = layer(x)\n",
       "        return x\n",
       "\n",
       "    def parameters(self):\n",
       "        return [p for layer in self.layers for p in layer.parameters()]\n",
       "\n",
       "    def __repr__(self):\n",
       "        return f\"MLP of [{', '.join(str(layer) for layer in self.layers)}]\"\n",
       "    \n"
      ]
     },
     {
      "cell_type": "markdown",
      "metadata": {},
      "source": [
       "# 4. Neural Networks Example"
      ]
     },
     {
      "cell_type": "markdown",
      "metadata": {},
      "source": [
       "To ensure that the neural network is functioning correctly, we will evaluate its performance on a dummy dataset: approximating sin(x). \n",
       "\n",
       "Here we create sine function from -2 to 2 and then try to match the neural network's output with actual sine function's output."
      ]
     },
     {
      "cell_type": "markdown",
      "metadata": {},
      "source": [
       "### 4.1. Load Dataset"
      ]
     },
     {
      "cell_type": "code",
      "execution_count": 136,
      "metadata": {},
      "outputs": [
       {
        "name": "stdout",
        "output_type": "stream",
        "text": [
         "X_train shape: (800, 1)\n",
         "X_test shape: (200, 1)\n",
         "y_train shape: (800, 1)\n",
         "y_test shape: (200, 1)\n"
        ]
       }
      ],
      "source": [
       "from sklearn.model_selection import train_test_split\n",
       "\n",
       "X = np.linspace(-2 * np.pi, 2 * np.pi, 1000).reshape(-1, 1)\n",
       "y = np.sin(X)\n",
       "\n",
       "# Split the data into training and testing sets\n",
       "X_train, X_test, y_train, y_test = train_test_split(X, y, test_size=0.2, random_state=42)\n",
       "\n",
       "# Example usage\n",
       "print(\"X_train shape:\", X_train.shape)\n",
       "print(\"X_test shape:\", X_test.shape)\n",
       "print(\"y_train shape:\", y_train.shape)\n",
       "print(\"y_test shape:\", y_test.shape)"
      ]
     },
     {
      "cell_type": "markdown",
      "metadata": {},
      "source": [
       "### 4.2. Define model"
      ]
     },
     {
      "cell_type": "markdown",
      "metadata": {},
      "source": [
       "<mark>TODO</mark> Implement the model using MLP. Make it reasonably large (but not too large) to deal with this particular dataset."
      ]
     },
     {
      "cell_type": "code",
      "execution_count": 137,
      "metadata": {},
      "outputs": [],
      "source": [
       "######## TODO: Define the model ########\n",
       "model = MLP(1, [10, 10, 10, 1],'silu')\n",
       "########################################"
      ]
     },
     {
      "cell_type": "markdown",
      "metadata": {},
      "source": [
       "### 4.3. Define criterion\n",
       "For measuring the error between the predicted label and the true labels, you should define the loss function. There are several common loss functions you can use, depending on the type of problem you're solving:\n",
       "* **L1 Loss (Mean Absolute Error, MAE)**: This loss function calculates the absolute difference between the predicted and true values. It's commonly used in regression tasks where robustness to outliers is important.\n",
       "\n",
       "  $\\text{L1 Loss} = \\frac{1}{n} \\sum_{i=1}^{n} |\\text{prediction}_i - \\text{actual}_i|$\n",
       "\n",
       "You can see the details in [here](https://en.wikipedia.org/wiki/Mean_absolute_error)\n",
       "\n",
       "* **L2 Loss (Mean Squared Error, MSE)**: This loss function calculates the square of the difference between the predicted and true values. It's widely used in regression tasks because it penalizes larger errors more than smaller ones.\n",
       "\n",
       "  \n",
       "  $\\text{L2 Loss} = \\frac{1}{n} \\sum_{i=1}^{n} (\\text{prediction}_i - \\text{actual}_i)^2$\n",
       "  \n",
       "You can see the details in [here](https://en.wikipedia.org/wiki/Mean_squared_error)\n",
       "\n",
       "In addition, you can try various other loss functions."
      ]
     },
     {
      "cell_type": "markdown",
      "metadata": {},
      "source": [
       "### 4.3. Training Step\n",
       "<mark>TODO</mark> Implement the training step."
      ]
     },
     {
      "cell_type": "code",
      "execution_count": 138,
      "metadata": {},
      "outputs": [],
      "source": [
       "def batch_iterator(X, y, batch_size):\n",
       "  \"\"\"Yield batches of data.\"\"\"\n",
       "  for i in range(0, len(X), batch_size):\n",
       "      yield X[i:i + batch_size], y[i:i + batch_size]"
      ]
     },
     {
      "cell_type": "code",
      "execution_count": 139,
      "metadata": {},
      "outputs": [
       {
        "name": "stderr",
        "output_type": "stream",
        "text": [
         "/tmp/ipykernel_54945/1703125380.py:95: DeprecationWarning: Conversion of an array with ndim > 0 to a scalar is deprecated, and will error in future. Ensure you extract a single element from your array before performing this operation. (Deprecated NumPy 1.25.)\n",
         "  out = Value(self.data / (1 + math.exp(-self.data)), (self,), 'SiLU')\n",
         "/tmp/ipykernel_54945/1703125380.py:98: DeprecationWarning: Conversion of an array with ndim > 0 to a scalar is deprecated, and will error in future. Ensure you extract a single element from your array before performing this operation. (Deprecated NumPy 1.25.)\n",
         "  v = 1 + math.exp(-self.data)\n"
        ]
       },
       {
        "name": "stdout",
        "output_type": "stream",
        "text": [
         "Epoch 0, Loss: [0.31503883]\n",
         "Epoch 1, Loss: [0.28255509]\n",
         "Epoch 2, Loss: [0.26330568]\n",
         "Epoch 3, Loss: [0.25034996]\n",
         "Epoch 4, Loss: [0.24115268]\n",
         "Epoch 5, Loss: [0.23433532]\n",
         "Epoch 6, Loss: [0.22912502]\n",
         "Epoch 7, Loss: [0.2250588]\n",
         "Epoch 8, Loss: [0.22183465]\n",
         "Epoch 9, Loss: [0.21924112]\n",
         "Epoch 10, Loss: [0.21712298]\n",
         "Epoch 11, Loss: [0.21536304]\n",
         "Epoch 12, Loss: [0.21387151]\n",
         "Epoch 13, Loss: [0.21257926]\n",
         "Epoch 14, Loss: [0.21143309]\n",
         "Epoch 15, Loss: [0.21039233]\n",
         "Epoch 16, Loss: [0.20942619]\n",
         "Epoch 17, Loss: [0.2085117]\n",
         "Epoch 18, Loss: [0.20763198]\n",
         "Epoch 19, Loss: [0.20677492]\n",
         "Epoch 20, Loss: [0.20593203]\n",
         "Epoch 21, Loss: [0.20509757]\n",
         "Epoch 22, Loss: [0.20426782]\n",
         "Epoch 23, Loss: [0.20344053]\n",
         "Epoch 24, Loss: [0.2026145]\n",
         "Epoch 25, Loss: [0.20178921]\n",
         "Epoch 26, Loss: [0.2009646]\n",
         "Epoch 27, Loss: [0.20014091]\n",
         "Epoch 28, Loss: [0.19931852]\n",
         "Epoch 29, Loss: [0.19849788]\n",
         "Epoch 30, Loss: [0.19767942]\n",
         "Epoch 31, Loss: [0.19686359]\n",
         "Epoch 32, Loss: [0.19605075]\n",
         "Epoch 33, Loss: [0.19524121]\n",
         "Epoch 34, Loss: [0.19443524]\n",
         "Epoch 35, Loss: [0.19363301]\n",
         "Epoch 36, Loss: [0.19283468]\n",
         "Epoch 37, Loss: [0.19204032]\n",
         "Epoch 38, Loss: [0.19124998]\n",
         "Epoch 39, Loss: [0.19046369]\n",
         "Epoch 40, Loss: [0.18968143]\n",
         "Epoch 41, Loss: [0.18890318]\n",
         "Epoch 42, Loss: [0.1881289]\n",
         "Epoch 43, Loss: [0.18735858]\n",
         "Epoch 44, Loss: [0.18659219]\n",
         "Epoch 45, Loss: [0.18582972]\n",
         "Epoch 46, Loss: [0.18507119]\n",
         "Epoch 47, Loss: [0.18431663]\n",
         "Epoch 48, Loss: [0.1835661]\n",
         "Epoch 49, Loss: [0.18281967]\n",
         "Epoch 50, Loss: [0.18207743]\n",
         "Epoch 51, Loss: [0.18133946]\n",
         "Epoch 52, Loss: [0.18060587]\n",
         "Epoch 53, Loss: [0.17987675]\n",
         "Epoch 54, Loss: [0.17915216]\n",
         "Epoch 55, Loss: [0.17843216]\n",
         "Epoch 56, Loss: [0.17771678]\n",
         "Epoch 57, Loss: [0.17700602]\n",
         "Epoch 58, Loss: [0.17629984]\n",
         "Epoch 59, Loss: [0.17559819]\n",
         "Epoch 60, Loss: [0.17490094]\n",
         "Epoch 61, Loss: [0.17420797]\n",
         "Epoch 62, Loss: [0.1735191]\n",
         "Epoch 63, Loss: [0.17283412]\n",
         "Epoch 64, Loss: [0.17215279]\n",
         "Epoch 65, Loss: [0.17147484]\n",
         "Epoch 66, Loss: [0.17079997]\n",
         "Epoch 67, Loss: [0.17012785]\n",
         "Epoch 68, Loss: [0.16945813]\n",
         "Epoch 69, Loss: [0.16879044]\n",
         "Epoch 70, Loss: [0.16812439]\n",
         "Epoch 71, Loss: [0.16745959]\n",
         "Epoch 72, Loss: [0.16679563]\n",
         "Epoch 73, Loss: [0.16613213]\n",
         "Epoch 74, Loss: [0.16546872]\n",
         "Epoch 75, Loss: [0.16480504]\n",
         "Epoch 76, Loss: [0.16414079]\n",
         "Epoch 77, Loss: [0.16347573]\n",
         "Epoch 78, Loss: [0.16280969]\n",
         "Epoch 79, Loss: [0.16214259]\n",
         "Epoch 80, Loss: [0.16147449]\n",
         "Epoch 81, Loss: [0.16080553]\n",
         "Epoch 82, Loss: [0.16013604]\n",
         "Epoch 83, Loss: [0.15946646]\n",
         "Epoch 84, Loss: [0.15879742]\n",
         "Epoch 85, Loss: [0.15812967]\n",
         "Epoch 86, Loss: [0.15746413]\n",
         "Epoch 87, Loss: [0.15680182]\n",
         "Epoch 88, Loss: [0.15614385]\n",
         "Epoch 89, Loss: [0.15549142]\n",
         "Epoch 90, Loss: [0.15484572]\n",
         "Epoch 91, Loss: [0.15420793]\n",
         "Epoch 92, Loss: [0.15357917]\n",
         "Epoch 93, Loss: [0.15296049]\n",
         "Epoch 94, Loss: [0.15235278]\n",
         "Epoch 95, Loss: [0.15175682]\n",
         "Epoch 96, Loss: [0.1511732]\n",
         "Epoch 97, Loss: [0.15060235]\n",
         "Epoch 98, Loss: [0.15004456]\n",
         "Epoch 99, Loss: [0.14949994]\n"
        ]
       }
      ],
      "source": [
       "######## TODO: ########\n",
       "gradient_rate = 1e-3  # change as necessary\n",
       "#######################\n",
       "\n",
       "num_epochs = 100 # change as necessary; but try to stay within 1000\n",
       "batch_size = 8 # experiment with this\n",
       "regul_coef = 1e-3 # change as necessary\n",
       "\n",
       "# Training loop\n",
       "for epoch in range(num_epochs):\n",
       "\n",
       "    for X_batch, y_batch in batch_iterator(X_train, y_train, batch_size):\n",
       "        y_pred = np.array([model(data) for data in X_batch])\n",
       "        \n",
       "        ##### TODO: implement L1 and L2 loss. But while training, use only one of them and comment the other  #####\n",
       "        # implment L1 loss:\n",
       "        # loss = Value(0)\n",
       "        # for pred, batch in zip(y_pred, y_batch):\n",
       "        #     diff = pred - batch\n",
       "        #     if (diff.data > 0):\n",
       "        #         loss += diff\n",
       "        #     else:\n",
       "        #         loss -= diff\n",
       "        # loss /= batch_size\n",
       "\n",
       "        # implement L2 loss:\n",
       "        loss = Value(0)\n",
       "        for pred, batch in zip(y_pred, y_batch):\n",
       "            loss += (pred - batch) ** 2\n",
       "        loss /= batch_size\n",
       "\n",
       "\n",
       "        # TODO: Add L2 regularization to the loss with different regularization coefficients\n",
       "        # hint: think of model.parameters()\n",
       "        # note that in reality we do not regularize the bias terms, but for the sake of simplicity you can regularize them as well\n",
       "        loss += regul_coef * sum(v ** 2 for v in model.parameters())\n",
       "\n",
       "        ################################################\n",
       "        \n",
       "        model.zero_grad()\n",
       "        \n",
       "        loss.backward()\n",
       "        \n",
       "        for p in model.parameters():\n",
       "            p.data -= gradient_rate * p.grad\n",
       "\n",
       "    if epoch % 1 == 0:\n",
       "        print(f'Epoch {epoch}, Loss: {loss.data}') # feel free to use other ways to track loss (eg different forms of averaging)"
      ]
     },
     {
      "cell_type": "markdown",
      "metadata": {},
      "source": [
       "### 4.3. Evaluation\n",
       "Evaluate the model performance on holdout data (use L2 loss for all analysis)"
      ]
     },
     {
      "cell_type": "code",
      "execution_count": 140,
      "metadata": {},
      "outputs": [
       {
        "name": "stderr",
        "output_type": "stream",
        "text": [
         "/tmp/ipykernel_54945/1703125380.py:95: DeprecationWarning: Conversion of an array with ndim > 0 to a scalar is deprecated, and will error in future. Ensure you extract a single element from your array before performing this operation. (Deprecated NumPy 1.25.)\n",
         "  out = Value(self.data / (1 + math.exp(-self.data)), (self,), 'SiLU')\n"
        ]
       },
       {
        "data": {
         "text/plain": [
          "Value(data=[0.03706166], grad=0)"
         ]
        },
        "execution_count": 140,
        "metadata": {},
        "output_type": "execute_result"
       }
      ],
      "source": [
       "##### TO-DO: Calculate the test loss #######\n",
       "y_pred = [model(v) for v in X_test]\n",
       "accuracy = sum(map(lambda v: (v[0] - v[1]) ** 2, zip(y_pred, y_test))) / len(y_pred)\n",
       "accuracy"
      ]
     },
     {
      "cell_type": "code",
      "execution_count": 141,
      "metadata": {},
      "outputs": [
       {
        "data": {
         "image/png": "[encoded data removed]",
         "text/plain": [
          "<Figure size 1000x600 with 1 Axes>"
         ]
        },
        "metadata": {},
        "output_type": "display_data"
       }
      ],
      "source": [
       "# Plotting function. Visualize your results\n",
       "# this code assumes: print(X_test.shape, y_test.shape, y_pred.shape) --> (200, 1) (200, 1) (200,)\n",
       "\n",
       "sorted_indices = np.argsort(X_test[:, 0]) # sorting is neeed because we randomized the data before\n",
       "X_test_sorted = X_test[sorted_indices]\n",
       "y_test_sorted = y_test[sorted_indices]\n",
       "y_pred_sorted = np.array([y.data for y in y_pred])[sorted_indices]\n",
       "\n",
       "# Plotting\n",
       "plt.figure(figsize=(10, 6))\n",
       "plt.plot(X_test_sorted, y_test_sorted, label='True Values', color='blue')\n",
       "plt.plot(X_test_sorted, y_pred_sorted, label='Predicted Values', color='red', linestyle='--')\n",
       "plt.title('Sine Function Prediction')\n",
       "plt.xlabel('X')\n",
       "plt.ylabel('Y')\n",
       "plt.legend()\n",
       "plt.grid(True)\n",
       "plt.show()"
      ]
     },
     {
      "cell_type": "markdown",
      "metadata": {},
      "source": [
       "<mark>TODO</mark> Answer the following questions. Plot necessary graphs if needed.\n",
       "\n",
       "* Which loss function gives the better validation loss? Keep the number of epoch and learning rate same.\n",
       "* For the best loss function you find, which non-linearity performs the best?\n",
       "* Does your best working solution overfit? How to prevent overfitting? Does regularization above prevent overfitting?\n",
       "* How would you implement regularization without regularizing bias terms? Describe briefly in a paragraph. Be specific on what you will modify."
      ]
     },
     {
      "cell_type": "markdown",
      "metadata": {},
      "source": [
       "### Answers\n",
       "\n",
       "1. The experiment with L2 loss function showed better result.\n",
       "2. The trial with SiLU function obtained the best result, with L2 accuracy of 0.04327366.\n",
       "3. The solution overfits the area from around -4 to 4, causing the remaining area to be underfitted. My hypothesis is: Since we do not give any weight, the model figured out that concentrating on center area is more efficient. Maybe we can give additional weight to the terminal areas to enforce training module to fit terminal areas as well.\n",
       "4. One way to achieve it would be replacing raw `Value`s with a tuple of a `Value` and a boolean which is true iff the value is not a bias. That way we can distinguish between biases and weights."
      ]
     }
    ],
    "metadata": {
     "kernelspec": {
      "display_name": "Python 3",
      "language": "python",
      "name": "python3"
     },
     "language_info": {
      "codemirror_mode": {
       "name": "ipython",
       "version": 3
      },
      "file_extension": ".py",
      "mimetype": "text/x-python",
      "name": "python",
      "nbconvert_exporter": "python",
      "pygments_lexer": "ipython3",
      "version": "3.11.9"
     }
    },
    "nbformat": 4,
    "nbformat_minor": 2
   }
   